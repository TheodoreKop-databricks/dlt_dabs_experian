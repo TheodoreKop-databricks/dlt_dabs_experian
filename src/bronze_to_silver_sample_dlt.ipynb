{
 "cells": [
  {
   "cell_type": "markdown",
   "metadata": {
    "application/vnd.databricks.v1+cell": {
     "cellMetadata": {},
     "inputWidgets": {},
     "nuid": "da2d01e2-e03a-426c-ad31-45f435e264bc",
     "showTitle": false,
     "title": ""
    }
   },
   "source": [
    "# ECRED SIMULATIONS NEW - ETL\n",
    "\n",
    "### Notebook Objective\n",
    "\n",
    "In this notebook We will:\n",
    "1. Ingest data from bronze to silver\n",
    "2. Define some DLT methods that can be used programmatically to create objects in the pipeline"
   ]
  },
  {
   "cell_type": "code",
   "execution_count": null,
   "metadata": {
    "application/vnd.databricks.v1+cell": {
     "cellMetadata": {
      "byteLimit": 2048000,
      "rowLimit": 10000
     },
     "inputWidgets": {},
     "nuid": "502f3572-da9f-4cfa-8b3a-8d6c2f2acfcc",
     "showTitle": false,
     "title": ""
    }
   },
   "outputs": [],
   "source": [
    "%pip install /dbfs/FileStore/ecs_dataops_lib_data_quality-0.0.1-py3-none-any.whl\n",
    "%pip install /dbfs/FileStore/ecs_dataops_utils_cryptography-0.12-py3-none-any.whl\n"
   ]
  },
  {
   "cell_type": "code",
   "execution_count": null,
   "metadata": {
    "application/vnd.databricks.v1+cell": {
     "cellMetadata": {
      "byteLimit": 2048000,
      "rowLimit": 10000
     },
     "inputWidgets": {},
     "nuid": "07b42427-1079-47b0-b8c7-35c3d95acdac",
     "showTitle": true,
     "title": "## Imports"
    }
   },
   "outputs": [],
   "source": [
    "from pyspark.sql.types import *\n",
    "import pyspark.sql.functions as F\n",
    "from pyspark.sql import DataFrame\n",
    "from pyspark.sql.window import Window\n",
    "from delta.tables import DeltaTable\n",
    "from datetime import date, datetime, timedelta\n",
    "from cryptography_library.operations.commons import PlatformCryptographyClient\n",
    "from cryptography_library.operations import SparkCryptography\n",
    "#from DataQuality import *"
   ]
  },
  {
   "cell_type": "code",
   "execution_count": null,
   "metadata": {
    "application/vnd.databricks.v1+cell": {
     "cellMetadata": {
      "byteLimit": 2048000,
      "rowLimit": 10000
     },
     "inputWidgets": {},
     "nuid": "413593a4-d39d-4ac3-95c8-e106a1c9a51f",
     "showTitle": false,
     "title": ""
    }
   },
   "outputs": [],
   "source": [
    "encriptLake     = SparkCryptography(spark)\n",
    "decriptPlatform = PlatformCryptographyClient()\n",
    "\n",
    "ecredDecrypt = decriptPlatform.get_decrypt_udf(\n",
    "      product=\"ecred\",\n",
    "      table=\"simulations\"\n",
    ")\n",
    "\n",
    "encryptCPF           = encriptLake.get_encryption_function(\"cpf\")\n",
    "encryptEmail         = encriptLake.get_encryption_function(\"email\")\n",
    "encryptName          = encriptLake.get_encryption_function(\"name\")\n",
    "encryptPhone         = encriptLake.get_encryption_function(\"phone\")\n",
    "\n",
    "encryptAddress       = encriptLake.get_encryption_function(\"address\")\n",
    "encryptDate          = encriptLake.get_encryption_function(\"date\")\n",
    "encryptPersonNumber  = encriptLake.get_encryption_function(\"person_number\")\n",
    "encryptGeoCode       = encriptLake.get_encryption_function(\"geocode\")"
   ]
  },
  {
   "cell_type": "code",
   "execution_count": null,
   "metadata": {
    "application/vnd.databricks.v1+cell": {
     "cellMetadata": {
      "byteLimit": 2048000,
      "rowLimit": 10000
     },
     "inputWidgets": {},
     "nuid": "ad075bd5-d095-4365-ac4c-03739c3b1f72",
     "showTitle": true,
     "title": "## Config PATH"
    }
   },
   "outputs": [],
   "source": [
    "bucketStage       = \"serasaexperian-ecs-datalakehouse-prd-stage\"\n",
    "bucketBronze      = \"serasaexperian-ecs-datalakehouse-prd-bronze\"\n",
    "bucketSilver      = \"serasaexperian-ecs-datalakehouse-prd-silver\"\n",
    "bucketCheckpoint  = \"serasaexperian-ecs-datalakehouse-prd-checkpoints\"\n",
    "\n",
    "\n",
    "silverDMS            = \"s3://serasaexperian-ecs-datalakehouse-prd-silver/ecs/ecred/simulations_new/\"\n",
    "bronzePath           = \"s3a://{}/ecs/events/ecred/\".format(bucketBronze)\n",
    "silverPath           = \"s3://{}/ecs/ecred/events_new_simulation/\".format(bucketSilver)\n",
    "stagePath            = \"s3://{}/ecred/events_simulation/\".format(bucketStage)\n",
    "\n",
    "stageCheckpoint      = \"s3://{}/ecs/ecred/events_new_simulation/stage/\".format(bucketCheckpoint)\n",
    "silverCheckpoint     = \"s3://{}/ecs/ecred/events_new_simulation/silver/\".format(bucketCheckpoint)\n",
    "silverCheckpointInc  = \"s3://{}/ecs/ecred/events_new_simulation_inc/silver/\".format(bucketCheckpoint)\n",
    "\n",
    "tableName            = \"db_ecred_silver.tb_new_events_simulation\"\n",
    "namedStageStream     = \"new_simulation_stream_write_bronze_to_stage\"\n",
    "namedSilverStream    = \"new_simulation_stream_write_bronze_to_silver\"\n",
    "namedSilverIniStream = \"new_simulation_stream_write_ini_bronze_to_silver\"\n",
    "\n",
    "print(stagePath)\n",
    "print(bronzePath)\n",
    "print(silverPath)"
   ]
  },
  {
   "cell_type": "markdown",
   "metadata": {
    "application/vnd.databricks.v1+cell": {
     "cellMetadata": {},
     "inputWidgets": {},
     "nuid": "c4ee0538-5441-4081-aef8-86b60dfa24ca",
     "showTitle": false,
     "title": ""
    }
   },
   "source": [
    "#### Getting the initial run as a pipeline parameter instead"
   ]
  },
  {
   "cell_type": "code",
   "execution_count": null,
   "metadata": {
    "application/vnd.databricks.v1+cell": {
     "cellMetadata": {
      "byteLimit": 2048000,
      "rowLimit": 10000
     },
     "inputWidgets": {},
     "nuid": "b309df33-d773-4a6b-8017-7ea7f677e7ab",
     "showTitle": false,
     "title": ""
    }
   },
   "outputs": [],
   "source": [
    "initial_run = spark.conf.get(\"pipeline.initial_run\") \n",
    "if initial_run:\n",
    "  date_ = '2023-10-01'\n",
    "  date_load = '2023-09-30'\n",
    "  try:\n",
    "    dbutils.fs.rm(silverPath, True)\n",
    "  except Exception as e:\n",
    "    print(e)\n",
    "else:\n",
    "  date_ = (date.today() - timedelta(days = 2)).strftime(\"%Y-%m-%d\")\n",
    "  date_load = (date.today() - timedelta(days = 3)).strftime(\"%Y-%m-%d\")\n",
    "date_"
   ]
  },
  {
   "cell_type": "markdown",
   "metadata": {
    "application/vnd.databricks.v1+cell": {
     "cellMetadata": {},
     "inputWidgets": {},
     "nuid": "958699b4-6efb-4895-ac8a-6f5ba68c28bf",
     "showTitle": false,
     "title": ""
    }
   },
   "source": [
    "#### Object Schema definition"
   ]
  },
  {
   "cell_type": "code",
   "execution_count": null,
   "metadata": {
    "application/vnd.databricks.v1+cell": {
     "cellMetadata": {
      "byteLimit": 2048000,
      "rowLimit": 10000
     },
     "inputWidgets": {},
     "nuid": "90d4858e-7fc4-4c6a-a428-9ad13b1fbfad",
     "showTitle": false,
     "title": ""
    }
   },
   "outputs": [],
   "source": [
    "offers_schema = ArrayType(StructType([\n",
    "    StructField(\"partnerProposalId\", StringType()),\n",
    "    StructField(\"creditTypeKey\", StringType()),\n",
    "    StructField(\"totalEffectiveCostPercentMonthly\", StringType()),\n",
    "    StructField(\"totalEffectiveCostPercentAnnualy\", StringType()),\n",
    "    StructField(\"taxRatePercentMonthly\", StringType()),\n",
    "    StructField(\"taxRatePercentAnnualy\", StringType()),\n",
    "    StructField(\"taxCreditOperationPercent\", StringType()),\n",
    "    StructField(\"flag\", StringType()),\n",
    "    StructField(\"detail\", StringType()),\n",
    "    StructField(\"creditTypeKeyV2\", StringType()),\n",
    "    StructField(\"feeAnnually\", StringType()),\n",
    "    StructField(\"feeAnnuallyDescription\", StringType()),\n",
    "    StructField(\"feeAnnuallyAdditionalCard\", StringType()),\n",
    "    StructField(\"feeAnnuallyDescriptionAdditionalCard\", StringType()),\n",
    "    StructField(\"feeCreditOpening\", StringType()),\n",
    "    StructField(\"installments\", StringType()),\n",
    "    StructField(\"installmentsValue\", StringType()),\n",
    "    StructField(\"preApproved\", StringType()),\n",
    "    StructField(\"approvalRate\", StringType()),\n",
    "    StructField(\"coldOffer\", StringType()),\n",
    "    StructField(\"totalPayable\", StringType()),\n",
    "    StructField(\"value\", StringType()),\n",
    "    StructField(\"differential\", StringType()),\n",
    "    StructField(\"variant\", StringType()),\n",
    "    StructField(\"limit\", StringType()),\n",
    "    StructField(\"description\", StringType()),\n",
    "    StructField(\"partnerIntegrationData\", ArrayType(StructType([\n",
    "        StructField(\"redirectUrl\", StringType()),\n",
    "        StructField(\"productCode\", StringType()),\n",
    "        StructField(\"secureCode\", StringType())\n",
    "    ]))),\n",
    "    StructField(\"benefits\", ArrayType(StringType())),\n",
    "    StructField(\"productBenefits\", ArrayType(StructType([\n",
    "        StructField(\"id\", StringType()),\n",
    "        StructField(\"categoryName\", StringType()),\n",
    "        StructField(\"categoryId\", StringType()),\n",
    "        StructField(\"description\", StringType())\n",
    "    ]))),\n",
    "    StructField(\"partnerKey\", StringType()),\n",
    "    StructField(\"partnerId\", StringType()),\n",
    "    StructField(\"id\", StringType()),\n",
    "    StructField(\"codeFgts\", StringType()),\n",
    "    StructField(\"detailFgts\", StringType()),\n",
    "    StructField(\"type\", StringType()),\n",
    "    StructField(\"productId\", StringType()),\n",
    "    StructField(\"offerType\", StringType()),\n",
    "    StructField(\"totalLimit\", StringType()),\n",
    "    StructField(\"digitalAccount\", StringType()),\n",
    "    StructField(\"monthlyFeeDescription\", StringType()),\n",
    "    StructField(\"monthlyFee\", StringType()),\n",
    "    StructField(\"creditCardLastFourDigits\", StringType()),\n",
    "    StructField(\"withdrawalMaxValue\", StringType()),\n",
    "    StructField(\"withdrawalMinValue\", StringType()),\n",
    "    StructField(\"firstInstallmentValue\", StringType()),\n",
    "    StructField(\"productKey\", StringType()),\n",
    "    StructField(\"partnerImportance\", StringType())\n",
    "]))\n",
    "\n",
    "products_schema =  ArrayType(StructType([StructField(\"id\", StringType()),\n",
    "                                         StructField(\"description\", StringType()),\n",
    "                                         StructField(\"businessValue\", StringType()),\n",
    "                                         StructField(\"business_value\", StringType()),\n",
    "                                         StructField(\"business_name\", StringType()),\n",
    "                                         StructField(\"partner_key\", StringType()),\n",
    "                                         StructField(\"partner_id\", StringType()),\n",
    "                                         StructField(\"partnerKey\", StringType()),\n",
    "                                         StructField(\"creditTypeKeyV2\", StringType()),\n",
    "                                         StructField(\"partnerId\", StringType()),\n",
    "                                         StructField(\"product_key\", StringType()),\n",
    "                                         StructField(\"importance\", StringType()),\n",
    "                                         StructField(\"offer_returned\", StringType()),\n",
    "                                         StructField(\"total_process_time\", StringType()),\n",
    "                                         StructField(\"reason_for_not_offering\", StringType()),\n",
    "                                         StructField(\"integrator_call_time\", StringType()),\n",
    "                                         StructField(\"integrator_status_code\", StringType()),\n",
    "                                         StructField(\"custom_scores_calls\", StringType()),\n",
    "                                         StructField(\"CAIP\", StructType([\n",
    "                                                             StructField(\"call_time\", StringType()),\n",
    "                                                             StructField(\"success\", StringType()),\n",
    "                                                             StructField(\"status_code\", StringType())])),\n",
    "                                         StructField(\"called\", StringType())]))\n",
    "\n",
    "ls_filters_schema =  StructType([StructField(\"creditTypeKeyV2\", StringType()),\n",
    "                                         StructField(\"eligible\", StringType()),\n",
    "                                         StructField(\"errorMessage\", StringType()),\n",
    "                                         StructField(\"filterResultAddressCity\", StringType()),\n",
    "                                         StructField(\"filterResultAddressState\", StringType()),\n",
    "                                         StructField(\"filterResultAge\", StringType()),\n",
    "                                         StructField(\"filterResultIncome\", StringType()),\n",
    "                                         StructField(\"filterResultLocation\", StringType()),\n",
    "                                         StructField(\"filterResultNegativated\", StringType()),\n",
    "                                         StructField(\"filterResultOccupation\", StringType()),\n",
    "                                         StructField(\"filterResultPreElegible\", StringType()),\n",
    "                                         StructField(\"filterResultProfession\", StringType()),\n",
    "                                         StructField(\"filterResultScore\", StringType()),\n",
    "                                         StructField(\"filterResultScoreECARD\", StringType()),\n",
    "                                         StructField(\"filterResultScoreHRP9\", StringType()),\n",
    "                                         StructField(\"filterResultScoreHSPN\", StringType()),\n",
    "                                         StructField(\"filterResultScoreHVAR\", StringType()),\n",
    "                                         StructField(\"filterResultScoreRCEP\", StringType()),\n",
    "                                         StructField(\"filtersAppliedBy\", StringType()),\n",
    "                                         StructField(\"nogordPolicyUsed\", StringType()),\n",
    "                                         StructField(\"nogordRequestUrl\", StringType()),\n",
    "                                         StructField(\"nogordResponseStatusCode\", StringType()),\n",
    "                                         StructField(\"nogordResponseStatusMessage\", StringType()),\n",
    "                                         StructField(\"nogordResponseTime\", StringType()),\n",
    "                                         StructField(\"offerHallGatherId\", StringType()),\n",
    "                                         StructField(\"offerHallGatherKey\", StringType()),\n",
    "                                         StructField(\"offerHallGatherTitle\", StringType()),\n",
    "                                         StructField(\"partnerId\", StringType()),\n",
    "                                         StructField(\"partnerKey\", StringType()),\n",
    "                                         StructField(\"productId\", StringType()),\n",
    "                                         StructField(\"productKey\", StringType()),\n",
    "                                         StructField(\"profileId\", StringType())])\n",
    "\n"
   ]
  },
  {
   "cell_type": "code",
   "execution_count": null,
   "metadata": {
    "application/vnd.databricks.v1+cell": {
     "cellMetadata": {
      "byteLimit": 2048000,
      "rowLimit": 10000
     },
     "inputWidgets": {},
     "nuid": "55d93776-2a6f-4986-8595-6fd5e38215b8",
     "showTitle": false,
     "title": ""
    }
   },
   "outputs": [],
   "source": [
    "dataSchema   = StructType().add(\"id\", StringType()) \\\n",
    "                           .add(\"requestId\", StringType()) \\\n",
    "                           .add(\"reason\", StringType()) \\\n",
    "                           .add(\"installments\", IntegerType()) \\\n",
    "                           .add(\"value\", DoubleType()) \\\n",
    "                           .add(\"vehicleGuarantee\", StringType()) \\\n",
    "                           .add(\"propertyGuarantee\", StringType()) \\\n",
    "                           .add(\"prioritizerFlowFlag\", IntegerType()) \\\n",
    "                           .add(\"clusterLabel\", StringType())\\\n",
    "                           .add(\"clusterPrefix\", StringType())\\\n",
    "                           .add(\"clusterRating\", StringType())\\\n",
    "                           .add(\"clusterMacroRating\", StringType())\\\n",
    "                           .add(\"addressZipCode\", StringType())\\\n",
    "                           .add(\"occupationQuestionId\", StringType())\\\n",
    "                           .add(\"assignmentId\", StringType()) \\\n",
    "                           .add(\"adjusted\", StringType()) \\\n",
    "                           .add(\"statusCode\", StringType()) \\\n",
    "                           .add(\"success\", StringType()) \\\n",
    "                           .add(\"totalProcessTime\", StringType()) \\\n",
    "                           .add(\"consumerAddressZipCode\", StringType()) \\\n",
    "                           .add(\"consumerId\", StringType()) \\\n",
    "                           .add(\"consumerAge\", StringType()) \\\n",
    "                           .add(\"consumerBirthDate\", StringType()) \\\n",
    "                           .add(\"consumerCreatedAt\", StringType()) \\\n",
    "                           .add(\"consumerScoresECARD\", StringType()) \\\n",
    "                           .add(\"consumerScoresratingHSPN\", StringType()) \\\n",
    "                           .add(\"flowAsync\", StringType()) \\\n",
    "                           .add(\"requests\", StringType()) \\\n",
    "                           .add(\"suggestedSimulation\", StringType()) \\\n",
    "                           .add(\"consumerCpf\", StringType()) \\\n",
    "                           .add(\"consumerName\", StringType()) \\\n",
    "                           .add(\"consumerEmail\", StringType()) \\\n",
    "                           .add(\"consumerEmailVerifiedAt\", StringType()) \\\n",
    "                           .add(\"consumerCellphone\", StringType()) \\\n",
    "                           .add(\"consumerCellphoneVerifiedAt\", StringType()) \\\n",
    "                           .add(\"professionLabel\", StringType()) \\\n",
    "                           .add(\"professionValue\", StringType()) \\\n",
    "                           .add(\"professionSequence\", StringType()) \\\n",
    "                           .add(\"occupationLabel\", StringType()) \\\n",
    "                           .add(\"occupationValue\", StringType()) \\\n",
    "                           .add(\"occupationSequence\", StringType()) \\\n",
    "                           .add(\"professionId\", StringType()) \\\n",
    "                           .add(\"professionQuestionId\", StringType()) \\\n",
    "                           .add(\"addressNumber\", StringType()) \\\n",
    "                           .add(\"paydayQuestionId\", StringType()) \\\n",
    "                           .add(\"paydayId\", StringType()) \\\n",
    "                           .add(\"paydayLabel\", StringType()) \\\n",
    "                           .add(\"paydayValue\", StringType()) \\\n",
    "                           .add(\"paydaySequence\", StringType()) \\\n",
    "                           .add(\"birthStateId\", StringType()) \\\n",
    "                           .add(\"birthStateQuestionId\", StringType()) \\\n",
    "                           .add(\"birthStateLabel\", StringType()) \\\n",
    "                           .add(\"birthStateValue\", StringType()) \\\n",
    "                           .add(\"birthStateSequence\", StringType()) \\\n",
    "                           .add(\"addressComplement\", StringType()) \\\n",
    "                           .add(\"income\", StringType()) \\\n",
    "                           .add(\"placeBirth\", StringType()) \\\n",
    "                           .add(\"genderId\", StringType()) \\\n",
    "                           .add(\"genderLabel\", StringType()) \\\n",
    "                           .add(\"genderValue\", StringType()) \\\n",
    "                           .add(\"genderSequence\", StringType()) \\\n",
    "                           .add(\"addressNeighborhood\", StringType()) \\\n",
    "                           .add(\"addressCity\", StringType()) \\\n",
    "                           .add(\"maritalStatusId\", StringType()) \\\n",
    "                           .add(\"maritalStatusQuestionId\", StringType()) \\\n",
    "                           .add(\"maritalStatusLabel\", StringType()) \\\n",
    "                           .add(\"maritalStatusValue\", StringType()) \\\n",
    "                           .add(\"maritalStatusSequence\", StringType()) \\\n",
    "                           .add(\"addressStateId\", StringType()) \\\n",
    "                           .add(\"addressStateQuestionId\", StringType()) \\\n",
    "                           .add(\"addressStateLabel\", StringType()) \\\n",
    "                           .add(\"addressStateValue\", StringType()) \\\n",
    "                           .add(\"addressStateSequence\", StringType()) \\\n",
    "                           .add(\"rg\", StringType()) \\\n",
    "                           .add(\"address\", StringType()) \\\n",
    "                           .add(\"residenceTypeId\", StringType()) \\\n",
    "                           .add(\"residenceTypeQuestionId\", StringType()) \\\n",
    "                           .add(\"residenceTypeLabel\", StringType()) \\\n",
    "                           .add(\"residenceTypeValue\", StringType()) \\\n",
    "                           .add(\"residenceTypeSequence\", StringType()) \\\n",
    "                           .add(\"offers\", ArrayType(StructType().add(\"partnerProposalId\", StringType())\\\n",
    "                                                                .add(\"creditTypeKey\", StringType())\\\n",
    "                                                                .add(\"totalEffectiveCostPercentMonthly\", StringType())\\\n",
    "                                                                .add(\"totalEffectiveCostPercentAnnualy\", StringType())\\\n",
    "                                                                .add(\"taxRatePercentMonthly\", StringType())\\\n",
    "                                                                .add(\"taxRatePercentAnnualy\", StringType())\\\n",
    "                                                                .add(\"taxCreditOperationPercent\", StringType())\\\n",
    "                                                                .add(\"flag\", StringType())\\\n",
    "                                                                .add(\"detail\", StringType())\\\n",
    "                                                                .add(\"feeAnnually\", StringType())\\\n",
    "                                                                .add(\"feeAnnuallyDescription\", StringType())\\\n",
    "                                                                .add(\"feeAnnuallyAdditionalCard\", StringType())\\\n",
    "                                                                .add(\"feeAnnuallyDescriptionAdditionalCard\", StringType())\\\n",
    "                                                                .add(\"feeCreditOpening\", StringType())\\\n",
    "                                                                .add(\"creditTypeKeyV2\", StringType()) \\\n",
    "                                                                .add(\"installments\", StringType())\\\n",
    "                                                                .add(\"installmentsValue\", StringType())\\\n",
    "                                                                .add(\"preApproved\", StringType())\\\n",
    "                                                                .add(\"approvalRate\", StringType())\\\n",
    "                                                                .add(\"coldOffer\", StringType())\\\n",
    "                                                                .add(\"totalPayable\", StringType())\\\n",
    "                                                                .add(\"value\", StringType())\\\n",
    "                                                                .add(\"differential\", StringType())\\\n",
    "                                                                .add(\"variant\", StringType())\\\n",
    "                                                                .add(\"limit\", StringType())\\\n",
    "                                                                .add(\"description\", StringType())\\\n",
    "                                                                .add(\"partnerIntegrationData\", ArrayType(StructType()\n",
    "                                                                    .add(\"redirectUrl\", StringType())\\\n",
    "                                                                    .add(\"productCode\", StringType())\\\n",
    "                                                                    .add(\"secureCode\", StringType())))\\\n",
    "                                                                .add(\"benefits\", ArrayType(StringType()))\\\n",
    "                                                                .add(\"productBenefits\", ArrayType(StructType()\n",
    "                                                                    .add(\"id\", StringType())\\\n",
    "                                                                    .add(\"categoryName\", StringType())\\\n",
    "                                                                    .add(\"categoryId\", StringType())\\\n",
    "                                                                    .add(\"description\", StringType())))\\\n",
    "                                                                .add(\"partnerKey\", StringType())\\\n",
    "                                                                .add(\"partnerId\", StringType())\\\n",
    "                                                                .add(\"type\", StringType())\\\n",
    "                                                                .add(\"id\", StringType())\\\n",
    "                                                                .add(\"offerType\", StringType())\\\n",
    "                                                                .add(\"codeFgts\", StringType())\\\n",
    "                                                                .add(\"detailFgts\", StringType())\\\n",
    "                                                                .add(\"productId\", StringType())\\\n",
    "                                                                .add(\"totalLimit\", StringType())\\\n",
    "                                                                .add(\"digitalAccount\", StringType())\\\n",
    "                                                                .add(\"monthlyFeeDescription\", StringType())\\\n",
    "                                                                .add(\"monthlyFee\", StringType())\\\n",
    "                                                                .add(\"creditCardLastFourDigits\", StringType())\\\n",
    "                                                                .add(\"withdrawalMaxValue\", StringType())\\\n",
    "                                                                .add(\"withdrawalMinValue\", StringType())\\\n",
    "                                                                .add(\"firstInstallmentValue\", StringType())\\\n",
    "                                                                .add(\"productKey\", StringType())\\\n",
    "                                                                .add(\"partnerImportance\", StringType())))\\\n",
    "                           .add(\"consumerIncome\", StringType()) \\\n",
    "                           .add(\"duplicated_slots\", StringType()) \\\n",
    "                           .add(\"offers_importance\", StringType()) \\\n",
    "                           .add(\"consumerScoresERCARD\", StringType()) \\\n",
    "                           .add(\"consumerScoresERCRA\", StringType()) \\\n",
    "                           .add(\"consumerScoresHRP9\", StringType()) \\\n",
    "                           .add(\"consumerScoresHSPA\", StringType()) \\\n",
    "                           .add(\"consumerScoresHSPN\", StringType()) \\\n",
    "                           .add(\"consumerScoresRCEP\", StringType()) \\\n",
    "                           .add(\"consumerRatingECARD\", StringType()) \\\n",
    "                           .add(\"consumerRatingERCRA\", StringType()) \\\n",
    "                           .add(\"consumerRatingRCEP\", StringType()) \\\n",
    "                           .add(\"consumerRatingHSPN\", StringType()) \\\n",
    "                           .add(\"consumerNegativated\", StringType()) \\\n",
    "                           .add(\"offerHallGatherKey\", StringType()) \\\n",
    "                           .add(\"products\", ArrayType(StructType().add(\"id\", StringType()) \\\n",
    "                                                                  .add(\"description\", StringType()) \\\n",
    "                                                                  .add(\"businessValue\", StringType()) \\\n",
    "                                                                  .add(\"business_value\", StringType()) \\\n",
    "                                                                  .add(\"business_name\", StringType()) \\\n",
    "                                                                  .add(\"partner_key\", StringType()) \\\n",
    "                                                                  .add(\"partner_id\", StringType()) \\\n",
    "                                                                  .add(\"partnerKey\", StringType()) \\\n",
    "                                                                  .add(\"partnerId\", StringType()) \\\n",
    "                                                                  .add(\"product_key\", StringType()) \\\n",
    "                                                                  .add(\"importance\", StringType()) \\\n",
    "                                                                  .add(\"offer_returned\", StringType()) \\\n",
    "                                                                  .add(\"total_process_time\", StringType()) \\\n",
    "                                                                  .add(\"reason_for_not_offering\", StringType()) \\\n",
    "                                                                  .add(\"integrator_call_time\", StringType()) \\\n",
    "                                                                  .add(\"integrator_status_code\", StringType()) \\\n",
    "                                                                  .add(\"custom_scores_calls\", StringType()) \\\n",
    "                                                                  .add(\"CAIP\", StructType().add(\"call_time\", StringType()) \\\n",
    "                                                                                           .add(\"success\", StringType()) \\\n",
    "                                                                                           .add(\"status_code\", StringType())) \\\n",
    "                                                                  .add(\"called\", StringType()))) \\\n",
    "                           .add(\"failedActionType\", StringType()) \\\n",
    "                           .add(\"failedActionMessage\", StringType()) \\\n",
    "                           .add(\"failedActionApplication\", StringType()) \\\n",
    "                           .add(\"creditTypeKeyV2\", StringType()) \\\n",
    "                           .add(\"productId\", StringType()) \\\n",
    "                           .add(\"failedActionStatuscode\", StringType())\\\n",
    "                           .add(\"eligible\", StringType())\\\n",
    "                           .add(\"errorMessage\", StringType())\\\n",
    "                           .add(\"filterResultAddressCity\", StringType())\\\n",
    "                           .add(\"filterResultAddressState\", StringType())\\\n",
    "                           .add(\"filterResultAge\", StringType())\\\n",
    "                           .add(\"filterResultIncome\", StringType())\\\n",
    "                           .add(\"filterResultLocation\", StringType())\\\n",
    "                           .add(\"filterResultNegativated\", StringType())\\\n",
    "                           .add(\"filterResultOccupation\", StringType())\\\n",
    "                           .add(\"filterResultPreElegible\", StringType())\\\n",
    "                           .add(\"filterResultProfession\", StringType())\\\n",
    "                           .add(\"filterResultScore\", StringType())\\\n",
    "                           .add(\"filterResultScoreECARD\", StringType())\\\n",
    "                           .add(\"filterResultScoreHRP9\", StringType())\\\n",
    "                           .add(\"filterResultScoreHSPN\", StringType())\\\n",
    "                           .add(\"filterResultScoreHVAR\", StringType())\\\n",
    "                           .add(\"filterResultScoreRCEP\", StringType())\\\n",
    "                           .add(\"filtersAppliedBy\", StringType())\\\n",
    "                           .add(\"nogordPolicyUsed\", StringType())\\\n",
    "                           .add(\"nogordRequestUrl\", StringType())\\\n",
    "                           .add(\"nogordResponseStatusCode\", StringType())\\\n",
    "                           .add(\"nogordResponseStatusMessage\", StringType())\\\n",
    "                           .add(\"nogordResponseTime\", StringType())\\\n",
    "                           .add(\"offerHallGatherId\", StringType())\\\n",
    "                           .add(\"offerHallGatherTitle\", StringType())\\\n",
    "                           .add(\"profileId\", StringType())"
   ]
  },
  {
   "cell_type": "code",
   "execution_count": null,
   "metadata": {
    "application/vnd.databricks.v1+cell": {
     "cellMetadata": {
      "byteLimit": 2048000,
      "rowLimit": 10000
     },
     "inputWidgets": {},
     "nuid": "8070ee35-d684-4e26-8049-4d77a384aa4d",
     "showTitle": false,
     "title": ""
    }
   },
   "outputs": [],
   "source": [
    "spark_conf={\n",
    "        \"spark.databricks.delta.properties.defaults.autoOptimize.optimizeWrite\" : True,\n",
    "        \"spark.databricks.delta.properties.defaults.autoOptimize.autoCompact\" :  True,\n",
    "        \"spark.databricks.delta.optimizeWrite.enabled\": True,\n",
    "        \"spark.databricks.adaptive.autoOptimizeShuffle.enabled\": True,\n",
    "        \"spark.databricks.adaptive.skewJoin.spillProof.enabled\": True,\n",
    "        \"spark.sql.adaptive.skewJoin.enabled\": True,\n",
    "        \"spark.databricks.delta.cache.enabled\": True,\n",
    "        \"spark.databricks.io.cache.enabled\": True        \n",
    "}\n"
   ]
  },
  {
   "cell_type": "markdown",
   "metadata": {
    "application/vnd.databricks.v1+cell": {
     "cellMetadata": {},
     "inputWidgets": {},
     "nuid": "91aaf24b-a6c5-4613-a114-3cc95e87e8c0",
     "showTitle": false,
     "title": ""
    }
   },
   "source": [
    "#### DLT METHODS"
   ]
  },
  {
   "cell_type": "code",
   "execution_count": null,
   "metadata": {
    "application/vnd.databricks.v1+cell": {
     "cellMetadata": {},
     "inputWidgets": {},
     "nuid": "e5cdf14b-9fb7-488f-b9cc-9db99b2783f5",
     "showTitle": false,
     "title": ""
    }
   },
   "outputs": [],
   "source": [
    "from dataclasses import asdict, dataclass, field\n",
    "from typing import Any, Callable, Dict, List, Union, Optional, Dict, Literal\n",
    "import dlt\n",
    "\n",
    "QUARANTINE_COL: str = \"is_quarantined\"\n",
    "\n",
    "def can_quarantine(is_quarantined: bool, expect_all: Dict[str, str]) -> bool:\n",
    "    quarantine: bool = is_quarantined and bool(expect_all) and not has_scd(entity)\n",
    "    #logger.debug(f\"Can quarantine: {quarantine}\")\n",
    "    return quarantine\n",
    "\n",
    "\n",
    "def quarantine_rules(is_quarantined: bool, expect_all: Dict[str, str]) -> str:\n",
    "    rules: str = (\n",
    "        \"NOT({0})\".format(\" AND \".join(expect_all.values()))\n",
    "        if can_quarantine(is_quarantined, expect_all)\n",
    "        else \"1=0\"\n",
    "    )\n",
    "    #logger.debug(f\"Quarantine rules: {rules}\")\n",
    "    return rules"
   ]
  },
  {
   "cell_type": "code",
   "execution_count": null,
   "metadata": {
    "application/vnd.databricks.v1+cell": {
     "cellMetadata": {
      "byteLimit": 2048000,
      "rowLimit": 10000
     },
     "inputWidgets": {},
     "nuid": "25ddeb4c-128b-4427-85aa-fa7740d726f2",
     "showTitle": false,
     "title": ""
    }
   },
   "outputs": [],
   "source": [
    "def generate_view(input_df: DataFrame, destination: str, comment: str, expect_all: Dict[str, str], expect_all_or_drop: Dict[str, str], expect_all_or_fail: Dict[str, str]) -> None:\n",
    "  \"\"\"\n",
    "  Generates a view for the specified dataframe.\n",
    "  \"\"\"\n",
    "  #logger.info(f\"Generating view for entity: \")\n",
    "  @dlt.view(\n",
    "      name=destination,\n",
    "      comment=comment,\n",
    "      spark_conf=spark_conf\n",
    "  )\n",
    "  @dlt.expect_all(expectations=expect_all)\n",
    "  @dlt.expect_all_or_drop(expectations=expect_all_or_drop)\n",
    "  @dlt.expect_all_or_fail(expectations=expect_all_or_fail)\n",
    "  def _():\n",
    "    return input_df\n"
   ]
  },
  {
   "cell_type": "code",
   "execution_count": null,
   "metadata": {
    "application/vnd.databricks.v1+cell": {
     "cellMetadata": {
      "byteLimit": 2048000,
      "rowLimit": 10000
     },
     "inputWidgets": {},
     "nuid": "3e8afd3c-0fd0-4d39-9d52-8859144857aa",
     "showTitle": false,
     "title": ""
    }
   },
   "outputs": [],
   "source": [
    "def generate_table(input_df: DataFrame, destination: str, partition_cols: List[str], comment: str, expect_all: Dict[str, str], expect_all_or_drop: Dict[str, str], expect_all_or_fail: Dict[str, str], is_quarantined: bool, has_scd: bool, src: str, keys: List[str], sequence_by: str, ignore_null_updates: bool, apply_as_deletes: str) -> None:\n",
    "    \"\"\"\n",
    "    Generates a table for the specified entity.\n",
    "    \"\"\"\n",
    "    #logger.info(f\"Generating table for entity: \")\n",
    "    name: str = destination\n",
    "    quarantine_name: str = f\"{name}_quarantine\"\n",
    "    invalid_name: str = f\"{name}_invalid\"\n",
    "    if can_quarantine(is_quarantined, expect_all):\n",
    "        _create_quarantine_tables(\n",
    "            valid_name=name,\n",
    "            invalid_name=invalid_name,\n",
    "            quarantine_name=quarantine_name,\n",
    "            partition_cols = partition_cols)\n",
    "        name = quarantine_name\n",
    "        partition_cols = [QUARANTINE_COL] + partition_cols\n",
    "    if has_scd:\n",
    "        _create_scd_table(source=src, keys=keys, sequence_by=sequence_by, ignore_null_updates=False, apply_as_deletes=apply_as_deletes, name=name, partition_cols=partition_cols, comment=comment, expect_all=expect_all, expect_all_or_drop=expect_all_or_drop, expect_all_or_fail=expect_all_or_fail)\n",
    "    else:\n",
    "        _create_table(input_df, name, partition_cols, comment, expect_all, expect_all_or_drop, expect_all_or_fail, is_quarantined)\n"
   ]
  },
  {
   "cell_type": "code",
   "execution_count": null,
   "metadata": {
    "application/vnd.databricks.v1+cell": {
     "cellMetadata": {
      "byteLimit": 2048000,
      "rowLimit": 10000
     },
     "inputWidgets": {},
     "nuid": "cf054a59-c199-4062-8dc3-e4f6409cb2ef",
     "showTitle": false,
     "title": ""
    }
   },
   "outputs": [],
   "source": [
    "def _create_quarantine_tables(\n",
    "    valid_name: str,\n",
    "    invalid_name: str,\n",
    "    quarantine_name: str,\n",
    "    partition_cols: List[str],\n",
    "):\n",
    "  @dlt.table(name=valid_name, partition_cols=partition_cols)\n",
    "  def valid_data():\n",
    "    df: DataFrame = (\n",
    "        dlt.readStream(quarantine_name)\n",
    "    )\n",
    "    return df.filter(f\"{QUARANTINE_COL}=false\").drop(QUARANTINE_COL, \"_rescued_data\")\n",
    "\n",
    "  @dlt.table(name=invalid_name, partition_cols=partition_cols)\n",
    "  def invalid_data():\n",
    "    df: DataFrame = (\n",
    "        dlt.readStream(quarantine_name)\n",
    "    )\n",
    "    return df.filter(f\"{QUARANTINE_COL}=true\").drop(QUARANTINE_COL)"
   ]
  },
  {
   "cell_type": "code",
   "execution_count": null,
   "metadata": {
    "application/vnd.databricks.v1+cell": {
     "cellMetadata": {
      "byteLimit": 2048000,
      "rowLimit": 10000
     },
     "inputWidgets": {},
     "nuid": "3cd689f9-e8df-459c-a577-9034e590be7f",
     "showTitle": false,
     "title": ""
    }
   },
   "outputs": [],
   "source": [
    "def _create_table(input_df: DataFrame, name: str, partition_cols: List[str], comment: str, expect_all: Dict, expect_all_or_drop: Dict, expect_all_or_fail: Dict, is_quarantined: bool):\n",
    "  #logger.debug(f\"Creating table: {name}\")\n",
    "  is_temporary: bool = is_quarantined\n",
    "  @dlt.table(\n",
    "    name=name,\n",
    "    comment=comment,\n",
    "    partition_cols=partition_cols,\n",
    "    spark_conf=spark_conf,\n",
    "    temporary=is_temporary,\n",
    "  )\n",
    "  @dlt.expect_all(expectations=expect_all)\n",
    "  @dlt.expect_all_or_drop(expectations=expect_all_or_drop)\n",
    "  @dlt.expect_all_or_fail(expectations=expect_all_or_fail)\n",
    "  def target_table():\n",
    "    df: DataFrame = input_df\n",
    "    if can_quarantine(is_quarantined, expect_all):\n",
    "      rules: str = quarantine_rules(is_quarantined, expect_all)\n",
    "      df = df.withColumn(QUARANTINE_COL, F.expr(rules))\n",
    "    return df"
   ]
  },
  {
   "cell_type": "code",
   "execution_count": null,
   "metadata": {
    "application/vnd.databricks.v1+cell": {
     "cellMetadata": {},
     "inputWidgets": {},
     "nuid": "e24c7052-319e-418d-9718-6cd4c00a45a4",
     "showTitle": false,
     "title": ""
    }
   },
   "outputs": [],
   "source": [
    "def _create_scd_table(source:str, keys: List[str], sequence_by: str, ignore_null_updates: bool, apply_as_deletes: str, name: str, partition_cols: List[str], comment: str, expect_all: Dict, expect_all_or_drop: Dict, expect_all_or_fail: Dict\n",
    "):\n",
    "  #logger.debug(f\"Creating SCD table: {name}\")\n",
    "  dlt.create_streaming_table(\n",
    "      name=name,\n",
    "      comment=comment,\n",
    "      partition_cols=partition_cols,\n",
    "      spark_conf=spark_conf,\n",
    "      expect_all=expect_all,\n",
    "      expect_all_or_drop=expect_all_or_drop,\n",
    "      expect_all_or_fail=expect_all_or_fail,\n",
    "  )\n",
    "  dlt.apply_changes(\n",
    "      target=name,\n",
    "      source=source,\n",
    "      keys=keys,\n",
    "      sequence_by=entity.apply_changes.sequence_by,\n",
    "      ignore_null_updates=ignore_null_updates,\n",
    "      apply_as_deletes=apply_as_deletes\n",
    "  )"
   ]
  },
  {
   "cell_type": "code",
   "execution_count": null,
   "metadata": {
    "application/vnd.databricks.v1+cell": {
     "cellMetadata": {
      "byteLimit": 2048000,
      "rowLimit": 10000
     },
     "inputWidgets": {},
     "nuid": "c51f9539-adf5-4464-a871-c9ad923d7efe",
     "showTitle": false,
     "title": ""
    }
   },
   "outputs": [],
   "source": [
    "df_dms = spark.read.load(silverDMS)\\\n",
    "                   .where(f\"cast(dt_created_at as date) < '{date_}'\")\\\n",
    "                   .selectExpr(\"cd_simulation\"\n",
    "                              ,\"dt_created_at\"\n",
    "                              ,\"vehicle_guarantee\"\n",
    "                              ,\"property_guarantee\"\n",
    "                              ,\"vl_simulation\"\n",
    "                              ,\"qt_installments\"\n",
    "                              ,\"adjusted\"\n",
    "                              ,\"prioritizer_flow_flag\"\n",
    "                              ,\"ds_client\"\n",
    "                              ,\"cd_uuid\"\n",
    "                              ,\"consumer_birth_date\"\n",
    "                              ,\"consumer_cellphone\"\n",
    "                              ,\"consumer_cellphone_verified_at\"\n",
    "                              ,\"consumer_cpf\"\n",
    "                              ,\"consumer_created_at\"\n",
    "                              ,\"consumer_data_address_zip_code\"\n",
    "                              ,\"consumer_data_consumer_id\"\n",
    "                              ,\"consumer_email\"\n",
    "                              ,\"consumer_email_verified_at\"\n",
    "                              ,\"consumer_name\"\n",
    "                              ,\"consumer_user_data_created_at\"\n",
    "                              ,\"consumer_scores_ERCRA\"\n",
    "                              ,\"consumer_presumedIncome\"\n",
    "                              ,\"consumer_age\"\n",
    "                              ,\"consumer_assignment_cluster_name\"\n",
    "                              ,\"consumer_assignment_cluster_prefix\"\n",
    "                              ,\"consumer_assignment_cluster_rating\"\n",
    "                              ,\"consumer_assignment_cluster_macro_rating\"\n",
    "                              ,\"consumer_assignment_id\"\n",
    "                              ,\"questions_address_zip_code\"\n",
    "                              ,\"questions_occupation_questionId\"\n",
    "                              ,\"questions_occupation_label\"\n",
    "                              ,\"questions_occupation_value\"\n",
    "                              ,\"questions_occupation_sequence\"\n",
    "                              ,\"questions_address\"\n",
    "                              ,\"questions_profession_id\"\n",
    "                              ,\"questions_profession_questionId\"\n",
    "                              ,\"questions_profession_label\"\n",
    "                              ,\"questions_profession_value\"\n",
    "                              ,\"questions_profession_sequence\"\n",
    "                              ,\"questions_address_number\"\n",
    "                              ,\"questions_payday_id\"\n",
    "                              ,\"questions_payday_questionId\"\n",
    "                              ,\"questions_payday_label\"\n",
    "                              ,\"questions_payday_value\"\n",
    "                              ,\"questions_payday_sequence\"\n",
    "                              ,\"questions_birth_state_id\"\n",
    "                              ,\"questions_birth_state_questionId\"\n",
    "                              ,\"questions_birth_state_label\"\n",
    "                              ,\"questions_birth_state_value\"\n",
    "                              ,\"questions_birth_state_sequence\"\n",
    "                              ,\"questions_address_complement\"\n",
    "                              ,\"questions_income\"\n",
    "                              ,\"questions_place_birth\"\n",
    "                              ,\"questions_gender_questionId\"\n",
    "                              ,\"questions_gender_label\"\n",
    "                              ,\"questions_gender_value\"\n",
    "                              ,\"questions_gender_sequence\"\n",
    "                              ,\"questions_address_neighborhood\"\n",
    "                              ,\"questions_address_city\"\n",
    "                              ,\"questions_marital_status_id\"\n",
    "                              ,\"questions_marital_status_questionId\"\n",
    "                              ,\"questions_marital_status_label\"\n",
    "                              ,\"questions_marital_status_value\"\n",
    "                              ,\"questions_marital_status_sequence\"\n",
    "                              ,\"questions_address_state_id\"\n",
    "                              ,\"questions_address_state_questionId\"\n",
    "                              ,\"questions_address_state_label\"\n",
    "                              ,\"questions_address_state_value\"\n",
    "                              ,\"questions_address_state_sequence\"\n",
    "                              ,\"questions_rg\"\n",
    "                              ,\"questions_residence_type_id\"\n",
    "                              ,\"questions_residence_type_questionId\"\n",
    "                              ,\"questions_residence_type_label\"\n",
    "                              ,\"questions_residence_type_value\"\n",
    "                              ,\"questions_residence_type_sequence\"\n",
    "                              ,\"reason_key\"\n",
    "                              ,\"ls_partners\"\n",
    "                              ,\"ls_offers\"\n",
    "                              ,\"ls_products\"\n",
    "                              ,\"dt_load_bronze\"\n",
    "                              ,\"cast(dt_created_at as date) as dt_event\"\n",
    "                              ,\"cast(current_timestamp() as date) as dt_load_silver\"\n",
    "                              ,\"file_name_raw\"\n",
    "                              ,\"cast(null as string) as consumer_scores_ECARD\"\n",
    "                              ,\"cast(null as string) as consumer_scores_HRP9\"\n",
    "                              ,\"cast(null as string) as consumer_scores_HSPA\"\n",
    "                              ,\"cast(null as string) as consumer_scores_HSPN\"\n",
    "                              ,\"cast(null as string) as consumer_scores_RCEP\"\n",
    "                              ,\"cast(null as string) as consumer_scores_rating_HSPN\"\n",
    "                              ,\"cast(null as string) as consumer_rating_RCEP\"\n",
    "                              ,\"cast(null as string) as consumer_rating_HSPN\"\n",
    "                              ,\"cast(null as string) as consumer_rating_ECARD\"\n",
    "                              ,\"cast(null as string) as consumer_rating_ERCRA\"\n",
    "                              ,\"cast(null as string) as duplicated_slots\"\n",
    "                              ,\"cast(null as string) as offers_importance\"\n",
    "                              ,\"cast(null as string) as consumerNegativated\"\n",
    "                              ,\"cast(null as string) as offerHallGatherKey\"\n",
    "                              ,\"cast(null as timestamp) as ts_event\"\n",
    "                              ,\"cast(null as string) as creditTypeKeyV2\"\n",
    "                              ,\"from_json(to_json(ls_offers), offers_schema) as ls_offers\"\n",
    "                              ,\"from_json(to_json(ls_products), products_schema) as ls_products\"\n",
    "                              ,\"from_json(to_json(ls_offers), offers_schema) as ls_offers_events\"\n",
    "                              ,\"from_json(to_json(ls_products), products_schema) as ls_products_events\"\n",
    "                              ,\"from_json(to_json(null), array<struct<ls_filters_schema>>) as ls_filters_events\")\n",
    "\n",
    "generate_table(input_df= df_dms, destination=\"silver_dms_tbl\", comment=\"PUT SOME RELEVANT COMMENT ABOUT THIS DATA OBJECT HERE\", is_quarantined=False, has_scd=False)"
   ]
  },
  {
   "cell_type": "code",
   "execution_count": null,
   "metadata": {
    "application/vnd.databricks.v1+cell": {
     "cellMetadata": {
      "byteLimit": 2048000,
      "rowLimit": 10000
     },
     "inputWidgets": {},
     "nuid": "c64f9143-79e0-4094-a55d-41768f8c7567",
     "showTitle": true,
     "title": "## Create bronze dataframe"
    }
   },
   "outputs": [],
   "source": [
    "df_bronze = (\n",
    "    spark.read.load(bronzePath)\n",
    "              .filter(col(\"dt_load\")>=date_load)\n",
    "              .where(f\"eventCode in ('2600','2601','2602','311') and cast((dateTime - INTERVAL '3' HOUR) as date) >= '{date_}'\")\n",
    "              .select( \n",
    "                       \"simulationId\"\n",
    "                      ,\"clientOrigin\"\n",
    "                      ,\"dateTime\"\n",
    "                      ,\"userId\"\n",
    "                      ,\"eventCode\"\n",
    "                      ,\"dt_load_bronze\"\n",
    "                      ,\"dt_load\"\n",
    "                      ,\"file_name_raw\"\n",
    "                      ,\"data\"\n",
    "                      ,from_json(\"data\",dataSchema).alias(\"new_data\")\n",
    "                    )\n",
    "            ).withColumn(\"ts_event\", col(\"dateTime\") - expr('INTERVAL 3 HOURS'))\n",
    "generate_view(input_df= df_bronze, destination=\"bronze_data_vw\", comment=\"PUT SOME RELEVANT COMMENT HERE\")"
   ]
  },
  {
   "cell_type": "code",
   "execution_count": null,
   "metadata": {
    "application/vnd.databricks.v1+cell": {
     "cellMetadata": {},
     "inputWidgets": {},
     "nuid": "ae7da780-f75d-4975-8625-e34eade8bc69",
     "showTitle": false,
     "title": ""
    }
   },
   "outputs": [],
   "source": [
    "df_2600 = dlt.readStream(\"bronze_data_vw\").where(\"eventCode == '2600' and new_data.success == 'true' and new_data.consumerCpf is not null\")\\\n",
    "                   .withColumn(\"row_number\",row_number().over(Window.partitionBy(col(\"simulationId\")).orderBy(col(\"dateTime\").desc())))\\\n",
    "                   .filter(col(\"row_number\")==1)\n",
    "\n",
    "df_2601 = dlt.readStream(\"bronze_data_vw\").where(\"eventCode == '2601'\")\\\n",
    "                   .withColumn(\"row_number\",row_number().over(Window.partitionBy(col(\"simulationId\")).orderBy(col(\"dateTime\").desc())))\\\n",
    "                   .filter(col(\"row_number\")==1)\n",
    "\n",
    "df_2602 = dlt.readStream(\"bronze_data_vw\").where(\"eventCode == '2602'\")\\\n",
    "                   .withColumn(\"row_number\",row_number().over(Window.partitionBy(col(\"simulationId\")).orderBy(col(\"dateTime\").desc())))\\\n",
    "                   .filter(col(\"row_number\")==1)\n",
    "\n",
    "df_311 = dlt.readStream(\"bronze_data_vw\").where(\"eventCode == '311'\")\\\n",
    "                   .withColumn(\"row_number\",row_number().over(Window.partitionBy(col(\"simulationId\"), col(\"new_data.productId\")).orderBy(col(\"dateTime\").desc())))\\\n",
    "                   .filter(col(\"row_number\")==1)\\\n",
    "                   .select(\"simulationId\",\"new_data.productId\", \"new_data.creditTypeKeyV2\", from_json(\"data\",ls_filters_schema).alias(\"ls_filters_events\")) "
   ]
  },
  {
   "cell_type": "code",
   "execution_count": null,
   "metadata": {
    "application/vnd.databricks.v1+cell": {
     "cellMetadata": {},
     "inputWidgets": {},
     "nuid": "ee018d6a-6f66-4e6f-93a8-0ac5e056ad7c",
     "showTitle": false,
     "title": ""
    }
   },
   "outputs": [],
   "source": [
    "df_explode = df_2601.select(\n",
    "    \"*\", explode_outer(\"new_data.products\").alias(\"products_explode\")\n",
    ")\n",
    "\n",
    "products_fields = df_explode.schema[\"products_explode\"].dataType.names\n",
    "\n",
    "condicoes = [col(f\"products_explode.{campo}\").isNull() for campo in products_fields] + [\n",
    "    col(f\"creditTypeKeyV2\").isNull()\n",
    "]\n",
    "\n",
    "condicao_final = condicoes.pop()\n",
    "for condicao in condicoes:\n",
    "    condicao_final = condicao_final & condicao\n",
    "\n",
    "\n",
    "df_struct_rebuild = (\n",
    "    df_explode.join(\n",
    "        df_311,\n",
    "        [\n",
    "            (df_311.simulationId == df_explode.simulationId)\n",
    "            & (df_311.productId == df_explode.products_explode.id)\n",
    "        ],\n",
    "        \"left\",\n",
    "    )\n",
    "    .withColumn(\n",
    "        \"products_explode_rebuild\",\n",
    "        when(condicao_final, lit(None)).otherwise(\n",
    "            struct(\n",
    "                *(\n",
    "                    [col(\"products_explode\")[c].alias(c) for c in products_fields]\n",
    "                    + [col(\"creditTypeKeyV2\").alias(\"creditTypeKeyV2\")]\n",
    "                )\n",
    "            )\n",
    "        ),\n",
    "    )\n",
    "    .select(df_explode.simulationId.alias(\"simulationId_\"), \"products_explode_rebuild\")\n",
    ")\n",
    "\n",
    "df_rebuild = df_struct_rebuild.groupBy(col(\"simulationId_\")).agg(\n",
    "    collect_set(col(\"products_explode_rebuild\")).alias(\"ls_products\")\n",
    ")\n",
    "\n",
    "generate_view(input_df= df_rebuild, destination=\"rebuild_df\", comment=\"PUT SOME RELEVANT COMMENT HERE\")"
   ]
  },
  {
   "cell_type": "code",
   "execution_count": null,
   "metadata": {
    "application/vnd.databricks.v1+cell": {
     "cellMetadata": {},
     "inputWidgets": {},
     "nuid": "aec79290-ce34-4816-a79b-76385b8b7694",
     "showTitle": false,
     "title": ""
    }
   },
   "outputs": [],
   "source": [
    "df_events_2600 = df_2600.select(\n",
    "                        col(\"simulationId\").alias(\"cd_simulation\")\n",
    "                       ,col(\"ts_event\").alias(\"dt_created_at\")\n",
    "                       ,col(\"new_data.vehicleGuarantee\").alias(\"vehicle_guarantee\")\n",
    "                       ,col(\"new_data.propertyGuarantee\").alias(\"property_guarantee\")\n",
    "                       ,col(\"new_data.value\").alias(\"vl_simulation\")\n",
    "                       ,col(\"new_data.installments\").alias(\"qt_installments\")\n",
    "                       ,col(\"new_data.adjusted\").alias(\"adjusted\")\n",
    "                       ,col(\"new_data.prioritizerFlowFlag\").alias(\"prioritizer_flow_flag\")\n",
    "                       ,col(\"clientOrigin\").alias(\"ds_client\")\n",
    "                       ,col(\"userId\").alias(\"cd_uuid\")\n",
    "                       ,encryptDate(ecredDecrypt(col(\"new_data.consumerBirthDate\"))).alias(\"consumer_birth_date\")\n",
    "                       ,encryptPhone(ecredDecrypt(col(\"new_data.consumerCellphone\"))).alias(\"consumer_cellphone\")\n",
    "                       ,col(\"new_data.consumerCellphoneVerifiedAt\").alias(\"consumer_cellphone_verified_at\")\n",
    "                       ,encryptCPF(ecredDecrypt(col(\"new_data.consumerCpf\"))).alias(\"consumer_cpf\")\n",
    "                       ,col(\"new_data.consumerCreatedAt\").alias(\"consumer_created_at\")\n",
    "                       ,encryptGeoCode(ecredDecrypt(col(\"new_data.consumerAddressZipCode\"))).alias(\"consumer_data_address_zip_code\")\n",
    "                       ,col(\"new_data.consumerId\").alias(\"consumer_data_consumer_id\")\n",
    "                       ,encryptEmail(ecredDecrypt(col(\"new_data.consumerEmail\"))).alias(\"consumer_email\")\n",
    "                       ,col(\"new_data.consumerEmailVerifiedAt\").alias(\"consumer_email_verified_at\")\n",
    "                       ,encryptName(ecredDecrypt(col(\"new_data.consumerName\"))).alias(\"consumer_name\")\n",
    "                       ,col(\"new_data.consumerCreatedAt\").alias(\"consumer_user_data_created_at\")\n",
    "                       ,col(\"new_data.consumerScoresERCRA\").alias(\"consumer_scores_ERCRA\")\n",
    "                       ,col(\"new_data.consumerIncome\").alias(\"consumer_presumedIncome\")\n",
    "                       ,col(\"new_data.consumerAge\").alias(\"consumer_age\")\n",
    "                       ,col(\"new_data.clusterLabel\").alias(\"consumer_assignment_cluster_name\")\n",
    "                       ,col(\"new_data.clusterPrefix\").alias(\"consumer_assignment_cluster_prefix\")\n",
    "                       ,col(\"new_data.clusterRating\").alias(\"consumer_assignment_cluster_rating\")\n",
    "                       ,col(\"new_data.clusterMacroRating\").alias(\"consumer_assignment_cluster_macro_rating\")\n",
    "                       ,col(\"new_data.assignmentId\").alias(\"consumer_assignment_id\")\n",
    "                       ,col(\"new_data.reason\").alias(\"reason_key\")\n",
    "                       ,col(\"new_data.consumerScoresECARD\").alias(\"consumer_scores_ECARD\")\n",
    "                       ,col(\"new_data.consumerScoresHRP9\").alias(\"consumer_scores_HRP9\")\n",
    "                       ,col(\"new_data.consumerScoresHSPA\").alias(\"consumer_scores_HSPA\")\n",
    "                       ,col(\"new_data.consumerScoresHSPN\").alias(\"consumer_scores_HSPN\")\n",
    "                       ,col(\"new_data.consumerScoresRCEP\").alias(\"consumer_scores_RCEP\")\n",
    "                       ,col(\"new_data.consumerScoresratingHSPN\").alias(\"consumer_scores_rating_HSPN\")\n",
    "                       ,col(\"new_data.consumerRatingECARD\").alias(\"consumer_rating_ECARD\")\n",
    "                       ,col(\"new_data.consumerRatingERCRA\").alias(\"consumer_rating_ERCRA\")\n",
    "                       ,col(\"new_data.consumerRatingRCEP\").alias(\"consumer_rating_RCEP\")\n",
    "                       ,col(\"new_data.consumerRatingHSPN\").alias(\"consumer_rating_HSPN\")\n",
    "                       ,col(\"dt_load_bronze\")\n",
    "                       ,col(\"file_name_raw\")\n",
    "                       ,col(\"new_data.consumerNegativated\").alias(\"consumerNegativated\")\n",
    "                       ,col(\"new_data.offerHallGatherKey\").alias(\"offerHallGatherKey\")\n",
    "                          )"
   ]
  },
  {
   "cell_type": "code",
   "execution_count": null,
   "metadata": {
    "application/vnd.databricks.v1+cell": {
     "cellMetadata": {},
     "inputWidgets": {},
     "nuid": "fd13c097-9a2c-45b2-86c0-bed8cb2ba3de",
     "showTitle": false,
     "title": ""
    }
   },
   "outputs": [],
   "source": [
    "df_events_2601 = df_2601.select(col(\"simulationId\").alias(\"cd_simulation_2601\")\n",
    "                               ,col(\"new_data.offers\").alias(\"ls_offers\")\n",
    "                               ,col(\"new_data.duplicated_slots\").alias(\"duplicated_slots\")\n",
    "                               ,col(\"new_data.offers_importance\").alias(\"offers_importance\")\n",
    "                               ,col(\"new_data.creditTypeKeyV2\").alias(\"creditTypeKeyV2\")\n",
    "                               )"
   ]
  },
  {
   "cell_type": "code",
   "execution_count": null,
   "metadata": {
    "application/vnd.databricks.v1+cell": {
     "cellMetadata": {},
     "inputWidgets": {},
     "nuid": "011eb8a5-0d73-46aa-8ace-349aab135bf0",
     "showTitle": false,
     "title": ""
    }
   },
   "outputs": [],
   "source": [
    "df_events_2602 = df_2602.select(col(\"simulationId\").alias(\"cd_simulation_2602\")\n",
    "                               ,encryptGeoCode(ecredDecrypt(col(\"new_data.addressZipCode\"))).alias(\"questions_address_zip_code\")\n",
    "                               ,col(\"new_data.occupationQuestionId\").alias(\"questions_occupation_questionId\")\n",
    "                               ,col(\"new_data.occupationLabel\").alias(\"questions_occupation_label\")\n",
    "                               ,col(\"new_data.occupationValue\").alias(\"questions_occupation_value\")\n",
    "                               ,col(\"new_data.occupationSequence\").alias(\"questions_occupation_sequence\")\n",
    "                               ,encryptAddress(ecredDecrypt(col(\"new_data.address\"))).alias(\"questions_address\")\n",
    "                               ,col(\"new_data.professionId\").alias(\"questions_profession_id\")\n",
    "                               ,col(\"new_data.professionQuestionId\").alias(\"questions_profession_questionId\")\n",
    "                               ,col(\"new_data.professionLabel\").alias(\"questions_profession_label\")\n",
    "                               ,col(\"new_data.professionValue\").alias(\"questions_profession_value\")\n",
    "                               ,col(\"new_data.professionSequence\").alias(\"questions_profession_sequence\")\n",
    "                               ,col(\"new_data.addressNumber\").alias(\"questions_address_number\")\n",
    "                               ,col(\"new_data.paydayId\").alias(\"questions_payday_id\")\n",
    "                               ,col(\"new_data.paydayQuestionId\").alias(\"questions_payday_questionId\")\n",
    "                               ,col(\"new_data.paydayLabel\").alias(\"questions_payday_label\")\n",
    "                               ,col(\"new_data.paydayValue\").alias(\"questions_payday_value\")\n",
    "                               ,col(\"new_data.paydaySequence\").alias(\"questions_payday_sequence\")\n",
    "                               ,col(\"new_data.birthStateId\").alias(\"questions_birth_state_id\")\n",
    "                               ,col(\"new_data.birthStateQuestionId\").alias(\"questions_birth_state_questionId\")\n",
    "                               ,col(\"new_data.birthStateLabel\").alias(\"questions_birth_state_label\")\n",
    "                               ,col(\"new_data.birthStateValue\").alias(\"questions_birth_state_value\")\n",
    "                               ,col(\"new_data.birthStateSequence\").alias(\"questions_birth_state_sequence\")\n",
    "                               ,encryptAddress(ecredDecrypt(col(\"new_data.addressComplement\"))).alias(\"questions_address_complement\")\n",
    "                               ,col(\"new_data.income\").alias(\"questions_income\")\n",
    "                               ,col(\"new_data.placeBirth\").alias(\"questions_place_birth\")\n",
    "                               ,col(\"new_data.genderId\").alias(\"questions_gender_questionId\")\n",
    "                               ,col(\"new_data.genderLabel\").alias(\"questions_gender_label\")\n",
    "                               ,col(\"new_data.genderValue\").alias(\"questions_gender_value\")\n",
    "                               ,col(\"new_data.genderSequence\").alias(\"questions_gender_sequence\")\n",
    "                               ,col(\"new_data.addressNeighborhood\").alias(\"questions_address_neighborhood\")\n",
    "                               ,col(\"new_data.addressCity\").alias(\"questions_address_city\")\n",
    "                               ,col(\"new_data.maritalStatusId\").alias(\"questions_marital_status_id\")\n",
    "                               ,col(\"new_data.maritalStatusQuestionId\").alias(\"questions_marital_status_questionId\")\n",
    "                               ,col(\"new_data.maritalStatusLabel\").alias(\"questions_marital_status_label\")\n",
    "                               ,col(\"new_data.maritalStatusValue\").alias(\"questions_marital_status_value\")\n",
    "                               ,col(\"new_data.maritalStatusSequence\").alias(\"questions_marital_status_sequence\")\n",
    "                               ,col(\"new_data.addressStateId\").alias(\"questions_address_state_id\")\n",
    "                               ,col(\"new_data.addressStateQuestionId\").alias(\"questions_address_state_questionId\")\n",
    "                               ,col(\"new_data.addressStateLabel\").alias(\"questions_address_state_label\")\n",
    "                               ,col(\"new_data.addressStateValue\").alias(\"questions_address_state_value\")\n",
    "                               ,col(\"new_data.addressStateSequence\").alias(\"questions_address_state_sequence\")\n",
    "                               ,encryptCPF(ecredDecrypt(col(\"new_data.rg\"))).alias(\"questions_rg\")\n",
    "                               ,col(\"new_data.residenceTypeId\").alias(\"questions_residence_type_id\")\n",
    "                               ,col(\"new_data.residenceTypeQuestionId\").alias(\"questions_residence_type_questionId\")\n",
    "                               ,col(\"new_data.residenceTypeLabel\").alias(\"questions_residence_type_label\")\n",
    "                               ,col(\"new_data.residenceTypeValue\").alias(\"questions_residence_type_value\")\n",
    "                               ,col(\"new_data.residenceTypeSequence\").alias(\"questions_residence_type_sequence\")\n",
    "                               )"
   ]
  },
  {
   "cell_type": "code",
   "execution_count": null,
   "metadata": {
    "application/vnd.databricks.v1+cell": {
     "cellMetadata": {},
     "inputWidgets": {},
     "nuid": "e5e3de85-ce5e-4053-a6ae-32f09d5fbbea",
     "showTitle": false,
     "title": ""
    }
   },
   "outputs": [],
   "source": [
    "df_events_311 = df_311.select(col(\"simulationId\").alias(\"cd_simulation_311\")\n",
    "                               ,col(\"ls_filters_events\").alias(\"ls_filters_events\")\n",
    "                               ).groupBy(\"cd_simulation_311\").agg(collect_list(\"ls_filters_events\").alias(\"ls_filters_events\"))"
   ]
  },
  {
   "cell_type": "code",
   "execution_count": null,
   "metadata": {
    "application/vnd.databricks.v1+cell": {
     "cellMetadata": {},
     "inputWidgets": {},
     "nuid": "cf35c00a-dcb7-4232-8a36-6c5527f74e3d",
     "showTitle": false,
     "title": ""
    }
   },
   "outputs": [],
   "source": [
    "df_2600_2601 = df_events_2600.join(df_events_2601, df_events_2600.cd_simulation == df_events_2601.cd_simulation_2601, \"left\")\n",
    "df_all       = df_2600_2601.join(df_events_2602,   df_2600_2601.cd_simulation   == df_events_2602.cd_simulation_2602, \"left\")\\\n",
    "                          .join(df_rebuild, df_events_2600.cd_simulation == df_rebuild.simulationId_,\"left\")\\\n",
    "                          .join(df_events_311, df_2600_2601.cd_simulation == df_events_311.cd_simulation_311,\"left\") #adiciobei um novo join\n",
    "\n",
    "df_events    = df_all.drop(\"cd_simulation_2601\",\"cd_simulation_2602\", \"simulationId_\",\"cd_simulation_311\")\\\n",
    "                     .withColumn(\"ls_offers_events\",col(\"ls_offers\"))\\\n",
    "                     .withColumn(\"ls_products_events\",col(\"ls_products\"))\\\n",
    "                      .withColumn(\"ls_partners\",\n",
    "                               array(struct(\n",
    "                                            lit(None).cast(\"string\").alias('userId')\n",
    "                                           ,lit(None).cast(\"string\").alias('name')\n",
    "                                           ,lit(None).cast(\"string\").alias('businessName')\n",
    "                                           ,lit(None).cast(\"string\").alias('status')\n",
    "                                           ,lit(None).cast(\"string\").alias('foundationDate')\n",
    "                                           ,lit(None).cast(\"string\").alias('disclaimer')\n",
    "                                           ,lit(None).cast(\"string\").alias('authorizationDisclaimer')\n",
    "                                           ,lit(None).cast(\"string\").alias('key')\n",
    "                                           ,array(struct(\n",
    "                                                         lit(None).cast(\"string\").alias('productId')\n",
    "                                                        ,lit(None).cast(\"string\").alias('startDate')\n",
    "                                                        ,lit(None).cast(\"string\").alias('endDate')\n",
    "                                                        ,lit(None).cast(\"string\").alias('active')\n",
    "                                                        ,lit(None).cast(\"string\").alias('id'))).alias(\"contracts\")\n",
    "                                          ,lit(None).cast(\"string\").alias('id')\n",
    "                                          ,array(struct(\n",
    "                                                         lit(None).cast(\"string\").alias('key')\n",
    "                                                        ,lit(None).cast(\"string\").alias('description')\n",
    "                                                        ,lit(None).cast(\"string\").alias('value')\n",
    "                                                        ,lit(None).cast(\"string\").alias('active')\n",
    "                                                        ,lit(None).cast(\"string\").alias('type')\n",
    "                                                        ,lit(None).cast(\"string\").alias('origin'))).alias(\"settings\")\n",
    "                                         ,array(\n",
    "                                                lit(None).cast(\"string\")).alias('matches')\n",
    "                                         ,struct(\n",
    "                                                 lit(None).cast(\"string\").alias('name')\n",
    "                                                ,lit(None).cast(\"string\").alias('prefix')\n",
    "                                                ,lit(None).cast(\"string\").alias('rating')\n",
    "                                                ,lit(None).cast(\"string\").alias('macro_rating')).alias(\"cluster\")\n",
    "                                         ,struct(\n",
    "                                                 lit(None).cast(\"string\").alias('origin')\n",
    "                                                ,lit(None).cast(\"string\").alias('value')).alias(\"approvalPropensity\")\n",
    "                                          ,lit(None).cast(\"string\").alias('businessValue')\n",
    "                                          ,lit(None).cast(\"string\").alias('called'))))\\\n",
    "                     .withColumn(\"dt_load_silver\",current_timestamp().cast(\"date\"))\\\n",
    "                     .withColumn(\"ts_event\",col(\"dt_created_at\"))\\\n",
    "                     .withColumn(\"dt_event\",col(\"dt_created_at\").cast(\"date\"))\n",
    "generate_table(input_df=df_events, destination=\"df_events_tbl\", comment=\"PUT SOME RELEVANT COMMENT ABOUT THIS DATA OBJECT HERE\", is_quarantined=True, expect_all={'some_condition: \"ls_offers_events is not null\" '})"
   ]
  },
  {
   "cell_type": "code",
   "execution_count": null,
   "metadata": {
    "application/vnd.databricks.v1+cell": {
     "cellMetadata": {},
     "inputWidgets": {},
     "nuid": "f606b6ac-3434-4fa0-83be-1a8590f0dddc",
     "showTitle": false,
     "title": ""
    }
   },
   "outputs": [],
   "source": [
    "if initial_run:\n",
    "  spark.sql(\"DROP TABLE IF EXISTS db_ecred_silver.tb_new_events_simulation\")\n",
    "\n",
    "generate_table(destination='tb_new_events_simulation', src='df_events_tbl', has_scd=True, is_quarantined=False, keys=[\"cd_simulation\", \"dt_created_at\"], sequence_by='dt_created_at', comment=\"PUT SOME RELEVANT COMMENT ABOUT THIS DATA OBJECT HERE\")\n",
    "print(\"Merge OK\")"
   ]
  }
 ],
 "metadata": {
  "application/vnd.databricks.v1+notebook": {
   "dashboards": [],
   "environmentMetadata": null,
   "language": "python",
   "notebookMetadata": {
    "mostRecentlyExecutedCommandWithImplicitDF": {
     "commandId": 4222264170582730,
     "dataframes": [
      "_sqldf"
     ]
    },
    "pythonIndentUnit": 4
   },
   "notebookName": "bronze_to_silver_sample_dlt",
   "widgets": {
    "inicial_run": {
     "currentValue": "false",
     "nuid": "f4b21210-30fe-4ab9-9f71-70519b0dee3b",
     "typedWidgetInfo": null,
     "widgetInfo": {
      "defaultValue": "false",
      "label": null,
      "name": "inicial_run",
      "options": {
       "autoCreated": null,
       "validationRegex": null,
       "widgetType": "text"
      },
      "widgetType": "text"
     }
    }
   }
  },
  "language_info": {
   "name": "python"
  }
 },
 "nbformat": 4,
 "nbformat_minor": 0
}
